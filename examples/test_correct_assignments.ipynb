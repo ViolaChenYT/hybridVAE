{
  "cells": [
    {
      "cell_type": "markdown",
      "metadata": {},
      "source": [
        "# Correct Assignment Test for C. elegans Data\n",
        "\n",
        "This notebook implements your advisor's request to compare the loss from your trained VAE with the loss obtained when using \"correct\" latent space assignments.\n",
        "\n",
        "**The approach:**\n",
        "- For each cell c from node i (ground truth lineage), sample z(c) ~ N(μ_i, ν) where μ_i is the mean for that lineage\n",
        "- Push these assignments through the decoder and compute the reconstruction loss\n",
        "- Compare this with the loss from your trained VAE\n"
      ]
    },
    {
      "cell_type": "code",
      "execution_count": null,
      "metadata": {},
      "outputs": [],
      "source": [
        "import sys\n",
        "import os\n",
        "sys.path.append('../src')\n",
        "\n",
        "import numpy as np\n",
        "import pandas as pd\n",
        "import scanpy as sc\n",
        "import torch\n",
        "import matplotlib.pyplot as plt\n",
        "import seaborn as sns\n",
        "from gmvae import GMVAE\n",
        "from utils import *\n",
        "\n",
        "# Set random seed for reproducibility\n",
        "torch.manual_seed(42)\n",
        "np.random.seed(42)\n"
      ]
    },
    {
      "cell_type": "code",
      "execution_count": null,
      "metadata": {},
      "outputs": [],
      "source": [
        "# Load the test functions from our script\n",
        "exec(open('../eval/test_correct_assignments.py').read())\n"
      ]
    }
  ],
  "metadata": {
    "kernelspec": {
      "display_name": "vae_env",
      "language": "python",
      "name": "python3"
    },
    "language_info": {
      "name": "python",
      "version": "3.10.18"
    }
  },
  "nbformat": 4,
  "nbformat_minor": 2
}
